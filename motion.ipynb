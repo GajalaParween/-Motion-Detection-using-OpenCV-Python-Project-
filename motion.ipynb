{
 "cells": [
  {
   "cell_type": "code",
   "execution_count": 2,
   "id": "6ae67cc7-6920-42b0-8108-fa07787d1301",
   "metadata": {},
   "outputs": [],
   "source": [
    "import cv2\n",
    "import numpy as np"
   ]
  },
  {
   "cell_type": "markdown",
   "id": "d40932a3-7fca-451a-8945-a24afe6493b7",
   "metadata": {},
   "source": [
    "vid= cv2.VideoCapture(0)\n",
    "succ,frame=vid.read()\n",
    "frame=cv2.cvtColor(frame,cv2.COLOR_BGR2GRAY)\n",
    "\n",
    "x,y,x1,y1=10,10,400,400\n",
    "while True:\n",
    "    succ, frame1 = vid.read()\n",
    "\n",
    "    frame1 = cv2.cvtColor(frame1, cv2.COLOR_BGR2GRAY)\n",
    "    h,w = frame1.shape\n",
    "    #cx,cy = w//2,h//2\n",
    "    #cv2.circle(frame1,(cx,cy),100,(255,0,255),2)\n",
    "      \n",
    "    cv2.rectangle(frame1, (x1, y1), (x2, y2), (255), 2)\n",
    "    \n",
    "    old = frame[y1:y2, x1:x2]\n",
    "    present = frame1[y1:y2, x1:x2]\n",
    "    diff=cv2.subtract(frame, frame1)/255\n",
    "\n",
    "    if np.sum(diff)>1000:\n",
    "        text = \"MOTION DETECTED\"\n",
    "        color=(0,255,255)\n",
    "        cv2.putText(frame1,text,(50,50),cv2.FONT_HERSHEY_COMPLEX,1,color,2)\n",
    "    else:\n",
    "        text=\"NO MOTION\"\n",
    "        color = (255,0,255)\n",
    "        cv2.putText(frame1,text,(50,50),cv2.FONT_HERSHEY_COMPLEX,1,color,2)\n",
    "            \n",
    "    cv2.imshow(\"LIVE CAMERA\",frame1)\n",
    "    if cv2.waitKey(1)==ord(\"q\"):\n",
    "        break\n",
    "        \n",
    "    frame1 = frame\n",
    "  \n",
    "vid.release()\n",
    "cv2.destroyAllWindows()"
   ]
  },
  {
   "cell_type": "code",
   "execution_count": 3,
   "id": "a590644a-6556-4912-9679-b89dc1394551",
   "metadata": {},
   "outputs": [],
   "source": [
    "import cv2\n",
    "import numpy as np\n",
    "\n",
    "vid = cv2.VideoCapture(0)\n",
    "\n",
    "succ1, frame1 = vid.read()\n",
    "frame1 = cv2.cvtColor(frame1, cv2.COLOR_BGR2GRAY)\n",
    "cv2.namedWindow(\"Live Motion Detection in ROI\", cv2.WINDOW_FREERATIO)\n",
    "\n",
    "\n",
    "x1, y1, x2, y2 = 160, 100, 450, 400\n",
    "\n",
    "while True:\n",
    "    succ, frame2 = vid.read()\n",
    "\n",
    "    frame2 = cv2.cvtColor(frame2, cv2.COLOR_BGR2GRAY)\n",
    "    \n",
    "    cv2.rectangle(frame2, (x1, y1), (x2, y2), (155), 2)\n",
    "    \n",
    "    old = frame1[y1:y2, x1:x2]\n",
    "    present = frame2[y1:y2, x1:x2]\n",
    "    \n",
    "    diff = cv2.subtract(old, present)/255\n",
    "    diff = cv2.subtract(frame1, frame2)/255\n",
    "    \n",
    "    if np.sum(diff) > 2000:\n",
    "        cv2.putText(frame2, \"Motion Detected!\", (80, 60), cv2.FONT_HERSHEY_SIMPLEX, 1.5, (0, 0, 255), 3)\n",
    "    \n",
    "    cv2.imshow(\"Live Motion Detection in ROI\", frame2)\n",
    "    \n",
    "    if cv2.waitKey(1) == ord('q'):\n",
    "        break\n",
    "\n",
    "    # print(np.sum(diff))\n",
    "    \n",
    "    frame1 = frame2\n",
    "\n",
    "vid.release()\n",
    "cv2.destroyAllWindows()"
   ]
  },
  {
   "cell_type": "code",
   "execution_count": null,
   "id": "c40ea438-0ae9-4395-8cdf-42c97c957e95",
   "metadata": {},
   "outputs": [],
   "source": []
  },
  {
   "cell_type": "code",
   "execution_count": null,
   "id": "5327e4db-c9c0-4770-ab09-2b3a6c5f86bb",
   "metadata": {},
   "outputs": [],
   "source": []
  }
 ],
 "metadata": {
  "kernelspec": {
   "display_name": "Python 3 (ipykernel)",
   "language": "python",
   "name": "python3"
  },
  "language_info": {
   "codemirror_mode": {
    "name": "ipython",
    "version": 3
   },
   "file_extension": ".py",
   "mimetype": "text/x-python",
   "name": "python",
   "nbconvert_exporter": "python",
   "pygments_lexer": "ipython3",
   "version": "3.13.6"
  }
 },
 "nbformat": 4,
 "nbformat_minor": 5
}
